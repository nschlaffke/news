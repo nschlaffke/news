{
 "cells": [
  {
   "cell_type": "code",
   "execution_count": 16,
   "metadata": {},
   "outputs": [],
   "source": [
    "import json\n",
    "from keras.preprocessing.text import Tokenizer, text_to_word_sequence\n",
    "import matplotlib.pyplot as plt\n",
    "%matplotlib tk\n",
    "import numpy as np\n",
    "from scipy.interpolate import spline"
   ]
  },
  {
   "cell_type": "code",
   "execution_count": 17,
   "metadata": {},
   "outputs": [],
   "source": [
    "DATA_SET_FILE_NAME = 'News_Category_Dataset_v2.json'\n",
    "VOCAB = 36"
   ]
  },
  {
   "cell_type": "code",
   "execution_count": 18,
   "metadata": {},
   "outputs": [],
   "source": [
    "file = open(DATA_SET_FILE_NAME, 'r')\n",
    "news = []\n",
    "for line in file:\n",
    "    news.append(json.loads(line))"
   ]
  },
  {
   "cell_type": "code",
   "execution_count": 19,
   "metadata": {},
   "outputs": [],
   "source": [
    "news_joined = []\n",
    "labels = []\n",
    "\n",
    "to_merge = {\n",
    "    'CULTURE & ARTS' : 'ARTS',\n",
    "    'EDUCATION' : 'COLLEGE',\n",
    "    'ARTS & CULTURE' : 'ARTS' \n",
    "}\n",
    "\n",
    "for sample in news:\n",
    "    cat = sample['category']\n",
    "    for key in to_merge.keys():\n",
    "        if cat == key:\n",
    "            cat = to_merge[key]\n",
    "            break\n",
    "    \n",
    "    text = sample['headline'] + ' ' + sample['short_description']\n",
    "    \n",
    "    news_joined.append(text)\n",
    "    labels.append(cat)"
   ]
  },
  {
   "cell_type": "code",
   "execution_count": 22,
   "metadata": {},
   "outputs": [],
   "source": [
    "tokenizer = Tokenizer(num_words=36)\n",
    "tokenizer.fit_on_texts(news_joined)"
   ]
  },
  {
   "cell_type": "code",
   "execution_count": 23,
   "metadata": {},
   "outputs": [],
   "source": [
    "words = [(word, int(count)) for word, count in zip(tokenizer.word_counts.keys(), tokenizer.word_counts.values())]\n",
    "words_sorted = sorted(words, key=lambda x: x[1], reverse=True)"
   ]
  },
  {
   "cell_type": "code",
   "execution_count": 24,
   "metadata": {},
   "outputs": [],
   "source": [
    "n_words = sum(tokenizer.word_counts.values())"
   ]
  },
  {
   "cell_type": "code",
   "execution_count": 25,
   "metadata": {},
   "outputs": [],
   "source": [
    "sums = np.zeros(len(words))\n",
    "sums[0] = words_sorted[0][1]\n",
    "for i in range(len(words)-1):\n",
    "    sums[i+1] = sums[i] + words_sorted[i+1][1]  \n",
    "sums /= n_words"
   ]
  },
  {
   "cell_type": "code",
   "execution_count": 26,
   "metadata": {},
   "outputs": [],
   "source": [
    "steps = []\n",
    "for p in np.arange(10, 101, 5):\n",
    "    step = np.where(sums >= p/100)[0][0]\n",
    "    steps.append(step+1)"
   ]
  },
  {
   "cell_type": "code",
   "execution_count": 27,
   "metadata": {},
   "outputs": [],
   "source": [
    "pairs = list(zip(np.arange(10, 101, 10), steps[::2]))\n"
   ]
  },
  {
   "cell_type": "code",
   "execution_count": 28,
   "metadata": {},
   "outputs": [
    {
     "data": {
      "text/plain": [
       "[<matplotlib.lines.Line2D at 0x7f12bc4ca860>]"
      ]
     },
     "execution_count": 28,
     "metadata": {},
     "output_type": "execute_result"
    }
   ],
   "source": [
    "values = [y/n_words for (_, y) in words_sorted]\n",
    "plt.plot(sums)"
   ]
  },
  {
   "cell_type": "code",
   "execution_count": 29,
   "metadata": {},
   "outputs": [
    {
     "data": {
      "text/plain": [
       "[4, 12, 36, 93, 243, 585, 1323, 2965, 8126, 116617]"
      ]
     },
     "execution_count": 29,
     "metadata": {},
     "output_type": "execute_result"
    }
   ],
   "source": [
    "numbers = [y for (_, y) in words_sorted]\n",
    "steps[::2]"
   ]
  },
  {
   "cell_type": "code",
   "execution_count": 30,
   "metadata": {},
   "outputs": [],
   "source": [
    "plt.figure()\n",
    "plt.scatter(list(np.arange(len(steps))), y=steps)\n",
    "xticks = np.arange(10, 101, 10)\n",
    "plt.xticks(np.arange(0, len(steps), 2), xticks)\n",
    "plt.xlabel('The coverage of the whole corpus (%)')\n",
    "plt.ylabel('The size of the vocabulary')\n",
    "plt.show()"
   ]
  },
  {
   "cell_type": "code",
   "execution_count": 21,
   "metadata": {},
   "outputs": [
    {
     "data": {
      "text/plain": [
       "array([ 0,  1,  2,  3,  4,  5,  6,  7,  8,  9, 10, 11, 12, 13, 14, 15, 16,\n",
       "       17, 18])"
      ]
     },
     "execution_count": 21,
     "metadata": {},
     "output_type": "execute_result"
    }
   ],
   "source": [
    "np.arange(len(steps))"
   ]
  },
  {
   "cell_type": "code",
   "execution_count": null,
   "metadata": {},
   "outputs": [],
   "source": []
  },
  {
   "cell_type": "code",
   "execution_count": null,
   "metadata": {},
   "outputs": [],
   "source": []
  }
 ],
 "metadata": {
  "kernelspec": {
   "display_name": "Python 3",
   "language": "python",
   "name": "python3"
  },
  "language_info": {
   "codemirror_mode": {
    "name": "ipython",
    "version": 3
   },
   "file_extension": ".py",
   "mimetype": "text/x-python",
   "name": "python",
   "nbconvert_exporter": "python",
   "pygments_lexer": "ipython3",
   "version": "3.6.7"
  }
 },
 "nbformat": 4,
 "nbformat_minor": 2
}
